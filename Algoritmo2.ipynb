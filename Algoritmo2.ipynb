{
 "cells": [
  {
   "cell_type": "markdown",
   "id": "4b8cce75",
   "metadata": {},
   "source": [
    "Algoritmo2"
   ]
  },
  {
   "cell_type": "code",
   "execution_count": 3,
   "id": "9883ec07",
   "metadata": {},
   "outputs": [
    {
     "name": "stdout",
     "output_type": "stream",
     "text": [
      "[0, 1, 2, 4, 6, 8, 10]\n"
     ]
    }
   ],
   "source": [
    "a = [0, 2, 4, 6, 8, 10,1]\n",
    "for i in range(len(a)):  # Use range(len(a)) for the outer loop\n",
    "    swapped = False\n",
    "    for j in range(0, len(a) - 1 - i):  # Reduce the range as the largest elements are sorted\n",
    "        if a[j] > a[j + 1]:\n",
    "            # swap\n",
    "            a[j], a[j + 1] = a[j + 1], a[j]\n",
    "            swapped = True\n",
    "    if not swapped:\n",
    "        break  # Exit the loop if no swaps occurred\n",
    "print(a)"
   ]
  },
  {
   "cell_type": "code",
   "execution_count": null,
   "id": "7a1f1839",
   "metadata": {},
   "outputs": [],
   "source": []
  }
 ],
 "metadata": {
  "kernelspec": {
   "display_name": "Python 3",
   "language": "python",
   "name": "python3"
  },
  "language_info": {
   "codemirror_mode": {
    "name": "ipython",
    "version": 3
   },
   "file_extension": ".py",
   "mimetype": "text/x-python",
   "name": "python",
   "nbconvert_exporter": "python",
   "pygments_lexer": "ipython3",
   "version": "3.12.5"
  }
 },
 "nbformat": 4,
 "nbformat_minor": 5
}
