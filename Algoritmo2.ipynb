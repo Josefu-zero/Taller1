{
 "cells": [
  {
   "cell_type": "markdown",
   "id": "4b8cce75",
   "metadata": {},
   "source": [
    "Algoritmo2"
   ]
  },
  {
   "cell_type": "code",
   "execution_count": 5,
   "id": "9883ec07",
   "metadata": {},
   "outputs": [
    {
     "name": "stdout",
     "output_type": "stream",
     "text": [
      "[0, 1, 2, 4, 6, 8, 10]\n"
     ]
    }
   ],
   "source": [
    "a = [0, 2, 4, 6, 8, 10,1]\n",
    "for i in range(len(a)):  \n",
    "    swapped = False\n",
    "    for j in range(0, len(a) - 1 - i): \n",
    "        if a[j] > a[j + 1]:\n",
    "            \n",
    "            a[j], a[j + 1] = a[j + 1], a[j]\n",
    "            swapped = True\n",
    "    if not swapped:\n",
    "        break  \n",
    "print(a)"
   ]
  },
  {
   "cell_type": "markdown",
   "id": "dbab1c0a",
   "metadata": {},
   "source": [
    "Modifique el numero de comparaciones realizadas al ordenar la serie 5, 4, 3 ,2 ,1       \n"
   ]
  },
  {
   "cell_type": "code",
   "execution_count": 4,
   "id": "7a1f1839",
   "metadata": {},
   "outputs": [
    {
     "name": "stdout",
     "output_type": "stream",
     "text": [
      "Lista ordenada: [1, 2, 3, 4, 5]\n",
      "Número de comparaciones: 10\n"
     ]
    }
   ],
   "source": [
    "a = [5, 4, 3, 2, 1]\n",
    "comparisons = 0  # Contador de comparaciones\n",
    "\n",
    "for i in range(len(a)):  # Use range(len(a)) para el bucle externo\n",
    "    swapped = False\n",
    "    for j in range(0, len(a) - 1 - i):  # Reducir el rango a medida que los elementos más grandes se ordenan\n",
    "        comparisons += 1  # Incrementar el contador de comparaciones\n",
    "        if a[j] > a[j + 1]:\n",
    "            # Intercambiar\n",
    "            a[j], a[j + 1] = a[j + 1], a[j]\n",
    "            swapped = True\n",
    "    if not swapped:\n",
    "        break  # Salir del bucle si no se realizaron intercambios\n",
    "\n",
    "print(\"Lista ordenada:\", a)\n",
    "print(\"Número de comparaciones:\", comparisons)"
   ]
  }
 ],
 "metadata": {
  "kernelspec": {
   "display_name": "Python 3",
   "language": "python",
   "name": "python3"
  },
  "language_info": {
   "codemirror_mode": {
    "name": "ipython",
    "version": 3
   },
   "file_extension": ".py",
   "mimetype": "text/x-python",
   "name": "python",
   "nbconvert_exporter": "python",
   "pygments_lexer": "ipython3",
   "version": "3.12.5"
  }
 },
 "nbformat": 4,
 "nbformat_minor": 5
}
