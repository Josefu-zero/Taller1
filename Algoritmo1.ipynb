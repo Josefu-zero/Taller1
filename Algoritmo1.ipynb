{
 "cells": [
  {
   "cell_type": "markdown",
   "id": "d3c244b7",
   "metadata": {},
   "source": [
    "Algoritmo 1"
   ]
  },
  {
   "cell_type": "code",
   "execution_count": 4,
   "id": "c1aed0a5",
   "metadata": {},
   "outputs": [
    {
     "name": "stdout",
     "output_type": "stream",
     "text": [
      "Sum of first 20 natural numbers is 15\n"
     ]
    }
   ],
   "source": [
    "#Lista de numeros naturales\n",
    "N={1,2,3,4,5,6,7,8,9,10}\n",
    "sum=0\n",
    "\n",
    "for i in N:  #Iterar sobre el conjunto N\n",
    "    sum+=i\n",
    "\n",
    "print(\"La suma de los primeros 10 numeros naturales es:\",sum) #Imprimir la suma"
   ]
  },
  {
   "cell_type": "markdown",
   "id": "63e3e665",
   "metadata": {},
   "source": [
    "Resulucion"
   ]
  },
  {
   "cell_type": "code",
   "execution_count": 5,
   "id": "cdebf4fb",
   "metadata": {},
   "outputs": [
    {
     "name": "stdout",
     "output_type": "stream",
     "text": [
      "El número mínimo de elementos necesarios es: 5\n"
     ]
    }
   ],
   "source": [
    "error_tolerancia = 10**-1  # Error absoluto permitido\n",
    "suma_infinita = 2  # Suma infinita de la serie\n",
    "suma_parcial = 0\n",
    "n = 0\n",
    "\n",
    "while suma_infinita - suma_parcial >= error_tolerancia:\n",
    "    suma_parcial += 1 / (2**n)\n",
    "    n += 1\n",
    "\n",
    "print(\"El número mínimo de elementos necesarios es:\", n)"
   ]
  }
 ],
 "metadata": {
  "kernelspec": {
   "display_name": "Python 3",
   "language": "python",
   "name": "python3"
  },
  "language_info": {
   "codemirror_mode": {
    "name": "ipython",
    "version": 3
   },
   "file_extension": ".py",
   "mimetype": "text/x-python",
   "name": "python",
   "nbconvert_exporter": "python",
   "pygments_lexer": "ipython3",
   "version": "3.12.5"
  }
 },
 "nbformat": 4,
 "nbformat_minor": 5
}
