{
 "cells": [
  {
   "cell_type": "markdown",
   "id": "8788e614",
   "metadata": {},
   "source": [
    "**Algoritmo 4**"
   ]
  },
  {
   "cell_type": "code",
   "execution_count": null,
   "id": "d9378522",
   "metadata": {},
   "outputs": [
    {
     "name": "stdout",
     "output_type": "stream",
     "text": [
      "Crecimiento de la serie armónica:\n",
      "----------------------------------------\n",
      "         n |    Suma parcial\n",
      "----------------------------------------\n",
      "        10 |         2.92897\n",
      "       100 |         5.18738\n",
      "     1,000 |         7.48547\n",
      "    10,000 |         9.78761\n",
      "   100,000 |        12.09015\n",
      " 1,000,000 |        14.39273\n"
     ]
    }
   ],
   "source": [
    "def serie_armonica(n_terminos):\n",
    "\n",
    "    suma = 0.0\n",
    "    for n in range(1, n_terminos + 1):\n",
    "        suma += 1 / n\n",
    "    return suma\n",
    "\n",
    "#Uso de la función\n",
    "valores_n = [10, 100, 1000, 10000, 100000, 1000000]\n",
    "\n",
    "print(\"Crecimiento de la serie armónica:\")\n",
    "print(\"-\" * 40)\n",
    "print(\"{:>10} | {:>15}\".format(\"n\", \"Suma parcial\"))\n",
    "print(\"-\" * 40)\n",
    "\n",
    "for n in valores_n:\n",
    "    suma = serie_armonica(n)\n",
    "    print(\"{:>10,} | {:>15.5f}\".format(n, suma))"
   ]
  },
  {
   "cell_type": "code",
   "execution_count": null,
   "id": "110414c5",
   "metadata": {},
   "outputs": [],
   "source": []
  }
 ],
 "metadata": {
  "kernelspec": {
   "display_name": "Python 3",
   "language": "python",
   "name": "python3"
  },
  "language_info": {
   "codemirror_mode": {
    "name": "ipython",
    "version": 3
   },
   "file_extension": ".py",
   "mimetype": "text/x-python",
   "name": "python",
   "nbconvert_exporter": "python",
   "pygments_lexer": "ipython3",
   "version": "3.12.5"
  }
 },
 "nbformat": 4,
 "nbformat_minor": 5
}
