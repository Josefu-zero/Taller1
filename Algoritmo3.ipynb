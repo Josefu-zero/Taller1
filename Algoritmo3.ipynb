{
 "cells": [
  {
   "cell_type": "markdown",
   "id": "fbcdd0d3",
   "metadata": {},
   "source": [
    "**Algoritmo 3**\n",
    "Funcion Fibonacci"
   ]
  },
  {
   "cell_type": "code",
   "execution_count": 10,
   "id": "ec22d415",
   "metadata": {},
   "outputs": [
    {
     "name": "stdout",
     "output_type": "stream",
     "text": [
      "n=11,  y =89\n"
     ]
    }
   ],
   "source": [
    "# funcion fibonacci iterativa\n",
    "def iterative(n):\n",
    "    if n == 0:\n",
    "        return 0\n",
    "    else:\n",
    "        x = 0\n",
    "        y = 1\n",
    "        for i in range(1, n):\n",
    "            z = x + y\n",
    "            x = y\n",
    "            y = z\n",
    "        return y\n",
    "\n",
    "# Pruebas\n",
    "n=11\n",
    "y=iterative(n)\n",
    "print(f\"n={n},  y ={y}\") "
   ]
  },
  {
   "cell_type": "code",
   "execution_count": 13,
   "id": "2774ad1f",
   "metadata": {},
   "outputs": [
    {
     "name": "stdout",
     "output_type": "stream",
     "text": [
      "Iteración 2: Error relativo = 0.38196601125010515\n",
      "Iteración 3: Error relativo = 0.23606797749978967\n",
      "Iteración 4: Error relativo = 0.07294901687515776\n",
      "Iteración 5: Error relativo = 0.030056647916491423\n",
      "Iteración 6: Error relativo = 0.01114561800016822\n",
      "Iteración 7: Error relativo = 0.004305231718579094\n",
      "Iteración 8: Error relativo = 0.0016374027886314115\n",
      "Iteración 9: Error relativo = 0.0006264579760202099\n",
      "Iteración 10: Error relativo = 0.0002391358457583512\n",
      "Iteración 11: Error relativo = 9.136361346616536e-05\n",
      "Iteración 12: Error relativo = 3.48946069117676e-05\n",
      "Iteración 13: Error relativo = 1.3329018927062451e-05\n",
      "Iteración 14: Error relativo = 5.091164333229031e-06\n",
      "La iteración desde la cual el error relativo es ≤ 10^-5 es: 14\n"
     ]
    }
   ],
   "source": [
    "import math\n",
    "\n",
    "# Número áureo\n",
    "phi = (1 + math.sqrt(5)) / 2\n",
    "\n",
    "# Inicializamos \n",
    "a, b = 0, 1\n",
    "iteracion = 1\n",
    "\n",
    "while True:\n",
    "    iteracion += 1\n",
    "    a, b = b, a + b\n",
    "    razon = b / a\n",
    "    error_relativo = abs((razon - phi) / phi)\n",
    "    \n",
    "    print(f\"Iteración {iteracion}: Error relativo = {error_relativo}\")\n",
    "    \n",
    "    if error_relativo <= 1e-5:\n",
    "        print(f\"La iteración desde la cual el error relativo es ≤ 10^-5 es: {iteracion}\")\n",
    "        break"
   ]
  },
  {
   "cell_type": "code",
   "execution_count": null,
   "id": "076d14e3",
   "metadata": {},
   "outputs": [],
   "source": []
  }
 ],
 "metadata": {
  "kernelspec": {
   "display_name": "Python 3",
   "language": "python",
   "name": "python3"
  },
  "language_info": {
   "codemirror_mode": {
    "name": "ipython",
    "version": 3
   },
   "file_extension": ".py",
   "mimetype": "text/x-python",
   "name": "python",
   "nbconvert_exporter": "python",
   "pygments_lexer": "ipython3",
   "version": "3.12.5"
  }
 },
 "nbformat": 4,
 "nbformat_minor": 5
}
